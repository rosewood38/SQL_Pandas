{
 "cells": [
  {
   "cell_type": "markdown",
   "id": "7c86066c",
   "metadata": {},
   "source": [
    "1)\n",
    "Write a solution to find for each date the number of different products sold and their names.\n",
    "\n",
    "The sold products names for each date should be sorted lexicographically.\n",
    "\n",
    "Return the result table ordered by sell_date.\n",
    "\n",
    "The result format is in the following example.\n",
    "\n",
    "Example 1:\n",
    "\n",
    "Input: \n",
    "Activities table:\n",
    "+------------+------------+\n",
    "| sell_date  | product     |\n",
    "+------------+------------+\n",
    "| 2020-05-30 | Headphone  |\n",
    "| 2020-06-01 | Pencil     |\n",
    "| 2020-06-02 | Mask       |\n",
    "| 2020-05-30 | Basketball |\n",
    "| 2020-06-01 | Bible      |\n",
    "| 2020-06-02 | Mask       |\n",
    "| 2020-05-30 | T-Shirt    |\n",
    "+------------+------------+\n",
    "Output: \n",
    "+------------+----------+------------------------------+\n",
    "| sell_date  | num_sold | products                     |\n",
    "+------------+----------+------------------------------+\n",
    "| 2020-05-30 | 3        | Basketball,Headphone,T-shirt |\n",
    "| 2020-06-01 | 2        | Bible,Pencil                 |\n",
    "| 2020-06-02 | 1        | Mask                         |\n",
    "+------------+----------+------------------------------+\n"
   ]
  },
  {
   "cell_type": "markdown",
   "id": "b8ea1d44",
   "metadata": {},
   "source": [
    "#### SQL"
   ]
  },
  {
   "cell_type": "markdown",
   "id": "a6636dd5",
   "metadata": {},
   "source": [
    "select sell_date,count(distinct products) as num_sold,group_concat(distinct product order by product) as products\n",
    "from Activities\n",
    "group by sell_date\n",
    "order by sell_date"
   ]
  },
  {
   "cell_type": "markdown",
   "id": "90bf9159",
   "metadata": {},
   "source": [
    "#### Pandas"
   ]
  },
  {
   "cell_type": "markdown",
   "id": "36713dfe",
   "metadata": {},
   "source": [
    "import pandas as pd\n",
    "\n",
    "data = [['2020-05-30', 'Headphone'], ['2020-06-01', 'Pencil'], ['2020-06-02', 'Mask'], ['2020-05-30', 'Basketball'], ['2020-06-01', 'Bible'], ['2020-06-02', 'Mask'], ['2020-05-30', 'T-Shirt']]\n",
    "\n",
    "df = pd.DataFrame(data, columns=['sell_date', 'product']).astype({'sell_date':'datetime64[ns]', 'product':'object'})\n",
    "\n",
    "result_df = df.groupby('sell_date')['product'].agg(['nunique', lambda x: ', '.join(sorted(x.unique()))]).reset_index()\n",
    "\n",
    "###### Rename columns for better readability\n",
    "result_df.columns = ['sell_date', 'num_sold', 'products']\n",
    "\n",
    "###### Print the result\n",
    "print(result_df)"
   ]
  },
  {
   "cell_type": "markdown",
   "id": "c048d698",
   "metadata": {},
   "source": [
    "2)\n",
    "Write a solution to get the names of products that have at least 100 units ordered in February 2020 and their amount.\n",
    "Return the result table in any order.\n",
    "\n",
    "The result format is in the following example.\n",
    "\n",
    "Example 1:\n",
    "\n",
    "Input: \n",
    "Products table:\n",
    "+-------------+-----------------------+------------------+\n",
    "| product_id  | product_name          | product_category |\n",
    "+-------------+-----------------------+------------------+\n",
    "| 1           | Leetcode Solutions    | Book             |\n",
    "| 2           | Jewels of Stringology | Book             |\n",
    "| 3           | HP                    | Laptop           |\n",
    "| 4           | Lenovo                | Laptop           |\n",
    "| 5           | Leetcode Kit          | T-shirt          |\n",
    "+-------------+-----------------------+------------------+\n",
    "Orders table:\n",
    "+--------------+--------------+----------+\n",
    "| product_id   | order_date   | unit     |\n",
    "+--------------+--------------+----------+\n",
    "| 1            | 2020-02-05   | 60       |\n",
    "| 1            | 2020-02-10   | 70       |\n",
    "| 2            | 2020-01-18   | 30       |\n",
    "| 2            | 2020-02-11   | 80       |\n",
    "| 3            | 2020-02-17   | 2        |\n",
    "| 3            | 2020-02-24   | 3        |\n",
    "| 4            | 2020-03-01   | 20       |\n",
    "| 4            | 2020-03-04   | 30       |\n",
    "| 4            | 2020-03-04   | 60       |\n",
    "| 5            | 2020-02-25   | 50       |\n",
    "| 5            | 2020-02-27   | 50       |\n",
    "| 5            | 2020-03-01   | 50       |\n",
    "+--------------+--------------+----------+\n",
    "Output: \n",
    "+--------------------+---------+\n",
    "| product_name       | unit    |\n",
    "+--------------------+---------+\n",
    "| Leetcode Solutions | 130     |\n",
    "| Leetcode Kit       | 100     |\n",
    "+--------------------+---------+"
   ]
  },
  {
   "cell_type": "markdown",
   "id": "f3327b18",
   "metadata": {},
   "source": [
    "#### SQL"
   ]
  },
  {
   "cell_type": "markdown",
   "id": "7ca25647",
   "metadata": {},
   "source": [
    "select product_name,unit from  \n",
    "(select p.product_id, p.product_name as product_name, sum(o.unit) as unit from Products p\n",
    "left join Orders o\n",
    "on \n",
    "p.product_id=o.product_id\n",
    "where order_date between\n",
    "'2020-02-01' and '2020-02-29' \n",
    "group by p.product_id,p.product_name) a\n",
    "where unit>=100\n"
   ]
  },
  {
   "cell_type": "markdown",
   "id": "bd09ebe5",
   "metadata": {},
   "source": [
    "#### Pandas"
   ]
  },
  {
   "cell_type": "markdown",
   "id": "3e51065c",
   "metadata": {},
   "source": [
    "import pandas as pd\n",
    "\n",
    "###### Sample input data\n",
    "products_data = {'product_id': [1, 2, 3, 4, 5],\n",
    "                 'product_name': ['Leetcode Solutions', 'Jewels of Stringology', 'HP', 'Lenovo', 'Leetcode Kit'],\n",
    "                 'product_category': ['Book', 'Book', 'Laptop', 'Laptop', 'T-shirt']}\n",
    "orders_data = {'product_id': [1, 1, 2, 2, 3, 3, 4, 4, 4, 5, 5, 5],\n",
    "               'order_date': ['2020-02-05', '2020-02-10', '2020-01-18', '2020-02-11', '2020-02-17', '2020-02-24',\n",
    "                              '2020-03-01', '2020-03-04', '2020-03-04', '2020-02-25', '2020-02-27', '2020-03-01'],\n",
    "               'unit': [60, 70, 30, 80, 2, 3, 20, 30, 60, 50, 50, 50]}\n",
    "products_df = pd.DataFrame(products_data)\n",
    "orders_df = pd.DataFrame(orders_data)\n",
    "\n",
    "###### Merge the Products and Orders tables on 'product_id'\n",
    "merged_df = pd.merge(products_df, orders_df, on='product_id')\n",
    "\n",
    "###### Filter for February 2020 and group by product_name, then sum the units\n",
    "result_df = merged_df[merged_df['order_date'].between('2020-02-01', '2020-02-29')].groupby('product_name')['unit'].sum().reset_index()\n",
    "\n",
    "###### Filter products with at least 100 units\n",
    "result_df = result_df[result_df['unit'] >= 100]\n",
    "\n",
    "###### Print the result\n",
    "print(result_df)\n"
   ]
  },
  {
   "cell_type": "markdown",
   "id": "f404cb6d",
   "metadata": {},
   "source": [
    "3)\n",
    "Write a solution to find the users who have valid emails.\n",
    "\n",
    "A valid e-mail has a prefix name and a domain where:\n",
    "\n",
    "The prefix name is a string that may contain letters (upper or lower case), digits, underscore '_', period '.', and/or dash '-'. The prefix name must start with a letter.\n",
    "The domain is '@leetcode.com'.\n",
    "Return the result table in any order.\n",
    "\n",
    "The result format is in the following example.\n",
    "\n",
    " \n",
    "\n",
    "Example 1:\n",
    "\n",
    "Input: \n",
    "Users table:\n",
    "+---------+-----------+-------------------------+\n",
    "| user_id | name      | mail                    |\n",
    "+---------+-----------+-------------------------+\n",
    "| 1       | Winston   | winston@leetcode.com    |\n",
    "| 2       | Jonathan  | jonathanisgreat         |\n",
    "| 3       | Annabelle | bella-@leetcode.com     |\n",
    "| 4       | Sally     | sally.come@leetcode.com |\n",
    "| 5       | Marwan    | quarz#2020@leetcode.com |\n",
    "| 6       | David     | david69@gmail.com       |\n",
    "| 7       | Shapiro   | .shapo@leetcode.com     |\n",
    "+---------+-----------+-------------------------+\n",
    "Output: \n",
    "+---------+-----------+-------------------------+\n",
    "| user_id | name      | mail                    |\n",
    "+---------+-----------+-------------------------+\n",
    "| 1       | Winston   | winston@leetcode.com    |\n",
    "| 3       | Annabelle | bella-@leetcode.com     |\n",
    "| 4       | Sally     | sally.come@leetcode.com |\n",
    "+---------+-----------+-------------------------+"
   ]
  },
  {
   "cell_type": "markdown",
   "id": "13768d86",
   "metadata": {},
   "source": [
    "#### SQL"
   ]
  },
  {
   "cell_type": "markdown",
   "id": "5f7c55eb",
   "metadata": {},
   "source": [
    "SELECT *\n",
    "FROM Users\n",
    "WHERE mail REGEXP '^[a-zA-Z][a-zA-Z0-9_.-]*@leetcode\\\\.com$';"
   ]
  },
  {
   "cell_type": "markdown",
   "id": "950d1b9b",
   "metadata": {},
   "source": [
    "#### Pandas"
   ]
  },
  {
   "cell_type": "markdown",
   "id": "6f0b4e8c",
   "metadata": {},
   "source": [
    "def valid_emails(users: pd.DataFrame) -> pd.DataFrame:\n",
    "    pattern = r'^[a-zA-Z][a-zA-Z0-9_.-]*@leetcode\\.com$'\n",
    "    filter = users['mail'].str.match(pattern)\n",
    "    df = users[filter]\n",
    "    return df"
   ]
  },
  {
   "cell_type": "markdown",
   "id": "aca1678d",
   "metadata": {},
   "source": [
    "4)\n",
    "Find the IDs of the employees whose salary is strictly less than $30000 and whose manager left the company. When a manager leaves the company, their information is deleted from the Employees table, but the reports still have their manager_id set to the manager that left.\n",
    "\n",
    "Return the result table ordered by employee_id.\n",
    "\n",
    "The result format is in the following example.\n",
    "\n",
    " \n",
    "\n",
    "Example 1:\n",
    "\n",
    "Input:  \n",
    "Employees table:\n",
    "+-------------+-----------+------------+--------+\n",
    "| employee_id | name      | manager_id | salary |\n",
    "+-------------+-----------+------------+--------+\n",
    "| 3           | Mila      | 9          | 60301  |\n",
    "| 12          | Antonella | null       | 31000  |\n",
    "| 13          | Emery     | null       | 67084  |\n",
    "| 1           | Kalel     | 11         | 21241  |\n",
    "| 9           | Mikaela   | null       | 50937  |\n",
    "| 11          | Joziah    | 6          | 28485  |\n",
    "+-------------+-----------+------------+--------+\n",
    "Output: \n",
    "+-------------+\n",
    "| employee_id |\n",
    "+-------------+\n",
    "| 11          |\n",
    "+-------------+\n"
   ]
  },
  {
   "cell_type": "markdown",
   "id": "be2e8271",
   "metadata": {},
   "source": [
    "#### SQL"
   ]
  },
  {
   "cell_type": "markdown",
   "id": "6f5f430f",
   "metadata": {},
   "source": [
    "select employee_id from employees \n",
    "where \n",
    "salary <30000 and\n",
    "manager_id not in \n",
    "(select employee_id from employees)\n",
    "order by employee_id"
   ]
  },
  {
   "cell_type": "markdown",
   "id": "f3672cac",
   "metadata": {},
   "source": [
    "#### Pandas"
   ]
  },
  {
   "cell_type": "markdown",
   "id": "0ce28127",
   "metadata": {},
   "source": [
    "import pandas as pd\n",
    "\n",
    "def find_employees(employees: pd.DataFrame) -> pd.DataFrame:\n",
    "    return employees[~(employees[\"manager_id\"].isin(employees[\"employee_id\"])) & \n",
    "    (employees[\"salary\"] < 30000)].dropna()[[\"employee_id\"]]\\\n",
    "    .sort_values(by=\"employee_id\",ascending=True)"
   ]
  }
 ],
 "metadata": {
  "kernelspec": {
   "display_name": "Python 3 (ipykernel)",
   "language": "python",
   "name": "python3"
  },
  "language_info": {
   "codemirror_mode": {
    "name": "ipython",
    "version": 3
   },
   "file_extension": ".py",
   "mimetype": "text/x-python",
   "name": "python",
   "nbconvert_exporter": "python",
   "pygments_lexer": "ipython3",
   "version": "3.11.4"
  }
 },
 "nbformat": 4,
 "nbformat_minor": 5
}
