{
 "cells": [
  {
   "cell_type": "raw",
   "id": "3550a82b",
   "metadata": {},
   "source": [
    "1)\n",
    "+----------------+---------+\n",
    "| Column Name    | Type    |\n",
    "+----------------+---------+\n",
    "| user_id        | int     |\n",
    "| name           | varchar |\n",
    "+----------------+---------+\n",
    "user_id is the primary key (column with unique values) for this table.\n",
    "This table contains the ID and the name of the user. The name consists of only lowercase and uppercase characters"
   ]
  },
  {
   "cell_type": "markdown",
   "id": "467a07b6",
   "metadata": {},
   "source": [
    "#### SQL"
   ]
  },
  {
   "cell_type": "markdown",
   "id": "c49562a0",
   "metadata": {},
   "source": [
    "select user_id, concat(upper(name,1,1),lower(name,2)) as name from users order by user_id"
   ]
  },
  {
   "cell_type": "markdown",
   "id": "5fceb50a",
   "metadata": {},
   "source": [
    "#### Pandas"
   ]
  },
  {
   "cell_type": "raw",
   "id": "db9ca60b",
   "metadata": {},
   "source": [
    "def fix(name):\n",
    "    return name.capitalize()\n",
    "df['name']=df['name'].apply(fix)\n",
    "df.sort_values(by='user_id',inplace=True)"
   ]
  },
  {
   "cell_type": "raw",
   "id": "e71d0eac",
   "metadata": {},
   "source": [
    "2)\n",
    "Write a solution to find the patient_id, patient_name, and conditions of the patients who have Type I Diabetes. Type I Diabetes always starts with DIAB1 prefix.\n",
    "\n",
    "Return the result table in any order.\n",
    "\n",
    "The result format is in the following example.\n",
    "Input: \n",
    "Patients table:\n",
    "+------------+--------------+--------------+\n",
    "| patient_id | patient_name | conditions   |\n",
    "+------------+--------------+--------------+\n",
    "| 1          | Daniel       | YFEV COUGH   |\n",
    "| 2          | Alice        |              |\n",
    "| 3          | Bob          | DIAB100 MYOP |\n",
    "| 4          | George       | ACNE DIAB100 |\n",
    "| 5          | Alain        | DIAB201      |\n",
    "+------------+--------------+--------------+\n",
    "Output: \n",
    "+------------+--------------+--------------+\n",
    "| patient_id | patient_name | conditions   |\n",
    "+------------+--------------+--------------+\n",
    "| 3          | Bob          | DIAB100 MYOP |\n",
    "| 4          | George       | ACNE DIAB100 | \n",
    "+------------+--------------+--------------+"
   ]
  },
  {
   "cell_type": "markdown",
   "id": "e0374f7d",
   "metadata": {},
   "source": [
    "#### SQL"
   ]
  },
  {
   "cell_type": "raw",
   "id": "1bd4e379",
   "metadata": {},
   "source": [
    "select * from Patients where conditions like 'DIAB1%' or conditions like '% DIAB1%'"
   ]
  },
  {
   "cell_type": "markdown",
   "id": "b43e8e48",
   "metadata": {},
   "source": [
    "#### Pandas "
   ]
  },
  {
   "cell_type": "raw",
   "id": "0e4b1ae1",
   "metadata": {},
   "source": [
    "Case 1: When 'DIAB1' is any where then\n",
    "    df[df['conditions'].str.contains('DIAB1', case=False, na=False)]\n",
    "Case 2: When conditions starts with 'DIAB1' then\n",
    "    df[df['conditions'].str.startswith('DIAB1')]"
   ]
  },
  {
   "cell_type": "raw",
   "id": "be958580",
   "metadata": {},
   "source": [
    "3)\n",
    "Write a solution to delete all duplicate emails, keeping only one unique email with the smallest id.\n",
    "For SQL users, please note that you are supposed to write a DELETE statement and not a SELECT one.\n",
    "For Pandas users, please note that you are supposed to modify Person in place.\n",
    "After running your script, the answer shown is the Person table. The driver will first compile and run your piece of code and then show the Person table. The final order of the Person table does not matter.\n",
    "The result format is in the following example.\n",
    "\n",
    "Person table:\n",
    "+----+------------------+\n",
    "| id | email            |\n",
    "+----+------------------+\n",
    "| 1  | john@example.com |\n",
    "| 2  | bob@example.com  |\n",
    "| 3  | john@example.com |\n",
    "+----+------------------+\n",
    "Output: \n",
    "+----+------------------+\n",
    "| id | email            |\n",
    "+----+------------------+\n",
    "| 1  | john@example.com |\n",
    "| 2  | bob@example.com  |\n",
    "+----+------------------+"
   ]
  },
  {
   "cell_type": "markdown",
   "id": "0260b317",
   "metadata": {},
   "source": [
    "#### SQL"
   ]
  },
  {
   "cell_type": "markdown",
   "id": "831790e1",
   "metadata": {},
   "source": [
    "WITH base AS (\n",
    "    SELECT id, email, ROW_NUMBER() OVER (PARTITION BY email ORDER BY id) AS rn\n",
    "    FROM Person\n",
    ")\n",
    "DELETE FROM Person\n",
    "WHERE (email, id) IN (\n",
    "    SELECT email, id\n",
    "    FROM base\n",
    "    WHERE rn > 1\n",
    ");"
   ]
  },
  {
   "cell_type": "markdown",
   "id": "8a880333",
   "metadata": {},
   "source": [
    "#### Pandas"
   ]
  },
  {
   "cell_type": "markdown",
   "id": "e69792e4",
   "metadata": {},
   "source": [
    "df.drop_duplicates(subset='email', keep='first', inplace=True)"
   ]
  },
  {
   "cell_type": "raw",
   "id": "557fb952",
   "metadata": {},
   "source": [
    "4)\n",
    "Write a solution to find the second highest salary from the Employee table. If there is no second highest salary, return null (return None in Pandas).\n",
    "\n",
    "The result format is in the following example.\n",
    "\n",
    " \n",
    "\n",
    "Example 1:\n",
    "\n",
    "Input: \n",
    "Employee table:\n",
    "+----+--------+\n",
    "| id | salary |\n",
    "+----+--------+\n",
    "| 1  | 100    |\n",
    "| 2  | 200    |\n",
    "| 3  | 300    |\n",
    "+----+--------+\n",
    "Output: \n",
    "+---------------------+\n",
    "| SecondHighestSalary |\n",
    "+---------------------+\n",
    "| 200                 |\n",
    "+---------------------+\n",
    "Example 2:\n",
    "\n",
    "Input: \n",
    "Employee table:\n",
    "+----+--------+\n",
    "| id | salary |\n",
    "+----+--------+\n",
    "| 1  | 100    |\n",
    "+----+--------+\n",
    "Output: \n",
    "+---------------------+\n",
    "| SecondHighestSalary |\n",
    "+---------------------+\n",
    "| null                |\n",
    "+---------------------+"
   ]
  },
  {
   "cell_type": "markdown",
   "id": "cb62d0e8",
   "metadata": {},
   "source": [
    "#### SQL"
   ]
  },
  {
   "cell_type": "raw",
   "id": "1a3fa61f",
   "metadata": {},
   "source": [
    "with base as(select salary from  Employee e1 where 2 = (select salary from Employee e2 where e2.salary>=e1.salary))\n",
    "select \n",
    "case when count(*)=0 then  null\n",
    "else salary\n",
    "end as SecondHighestSalary\n",
    "from base"
   ]
  },
  {
   "cell_type": "markdown",
   "id": "3e0afb20",
   "metadata": {},
   "source": [
    "#### Pandas"
   ]
  },
  {
   "cell_type": "raw",
   "id": "279f2d23",
   "metadata": {},
   "source": [
    "\n",
    "df['SecondHighestSalary'] = df['Salary'].nunique() >= 2 and df['Salary'].nlargest(2).iloc[-1] or None"
   ]
  }
 ],
 "metadata": {
  "kernelspec": {
   "display_name": "Python 3 (ipykernel)",
   "language": "python",
   "name": "python3"
  },
  "language_info": {
   "codemirror_mode": {
    "name": "ipython",
    "version": 3
   },
   "file_extension": ".py",
   "mimetype": "text/x-python",
   "name": "python",
   "nbconvert_exporter": "python",
   "pygments_lexer": "ipython3",
   "version": "3.11.4"
  }
 },
 "nbformat": 4,
 "nbformat_minor": 5
}
